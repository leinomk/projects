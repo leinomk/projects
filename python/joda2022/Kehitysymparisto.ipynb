{
 "cells": [
  {
   "cell_type": "markdown",
   "id": "168e9888",
   "metadata": {},
   "source": [
    "Mauri Leino\n",
    "\n",
    "# Harjoitustyö vaihe 1 - Kehitysympäristö\n",
    "\n",
    "__Pistetavoite: 3__\n",
    "\n",
    "Harjoitustyön kehitysympäristöksi valitsin pienen pohdiskelun jälkeen JupyterLabin, jonka laitoin pyörimään Google Cloud Platformiin. Pohdein myös Microsoft Azurea ja AWS:ää, mutta lopulta päädyin valitsemaan Googlen palvelun, johon saa 300 dollarin arvosta krediittiä vuoden kokeilujakson ajaksi.\n",
    "\n",
    "## Käyttöönotto\n",
    "\n",
    "Google Cloud Platformin käyttöönotossa seurasin melko pitkälti aiemmin kurssin käyneen opiskelijan löytämää ja linkkaamaa tutoriaalia. Linkki tähän tutoriaaliin on tämänkin dokumentin lopussa.\n",
    "\n",
    "Ensimmäisenä vaiheena GCP:hen luodaan projekti, joka on hyvin yksinkertaista käyttöliittymässä tutoriaalin ohjeilla. Projektia luodessa kiinnittäisin huomiota projektin ID:hen, joka saattaa generoitua sattumanvaraiseksi. Sitä, miten paljon tämä lopulta haittaa, en tiedä, mutta omakohtaisesti aloitin projektin luomisen alusta ID:n ollessa ensimmäisellä kerralla hyvin pitkä ja epälooginen. Toisella kerralla ID generoitui automaattisesti projektille asettamastani nimestä, mikä oli kätevää. Tämän todennäköisesti pitäisi olla myös oletustoiminto, joten en tiedä mikä ensimmäisellä kerralla meni vikaan.\n",
    "\n",
    "Tutoriaalia seuraamalla ensin luodaan VM-instanssi, eli käytännössä virtuaalikone, joka pyörii GCP:ssä. Tutoriaalista poiketen ennen instanssin luomista projektille tuli kuitenkin ottaa käyttöön Compute Engine API, mutta tutoriaalin ohjaamaa Compute Engine -valikkoa klikkaamalla päätyi oikeaan paikkaan API:n käyttöönottoon, jonka jälkeen uudelleen Compute Engine -valikkoa klikkaamalla päätyi VM-instanssin luomisen mahdollistavaan ruutuun. GCP on todennäköisesti uudistunut tutoriaalin kirjoittamisen jälkeen, ja sen vuoksi valikot ovat hieman erilaiset.\n",
    "\n",
    "Virtuaalikoneen käyttöjärjestelmäksi valitsin tutoriaalista poiketen Debian 10, sillä tämä tuki Shielded VM -toimintoja, joita Debian 9 ei tukenut. Tämän ajattelin tuovan pienen ekstran tietoturvan kannalta. Koneen speksit valikoituivat lähinnä hinnan perusteella, vaikka näin lyhyen projektin ajaksi hieman tehokkaampikaan kone ei olisi todennäköisesti ollut liian kallis. Valitsin templaten, jonka mukana tuli 2 prosessoria, 4 GB RAMia ja 10 GB kovalevytilaa. Valinta saattaa kostautua myöhemmissä vaiheissa prosessointien ajallisena venymisenä, mutta toisaalta pilviympäristön etu on se, että oman läppärini toiminta ei häiriinny, ja laskennan voi tarvittaessa jättää jurnuttamaan pidemmäksikin aikaa vaikkapa yön yli.\n",
    "\n",
    "Instanssin luomisen jälkeen otetaan siihen yhteys Google Cloud -konsolilla, komennolla"
   ]
  },
  {
   "cell_type": "code",
   "execution_count": null,
   "id": "82931cce",
   "metadata": {},
   "outputs": [],
   "source": [
    "# gcloud compute ssh [PROJEKTIN ID]"
   ]
  },
  {
   "cell_type": "markdown",
   "id": "a0eecdc9",
   "metadata": {},
   "source": [
    "Yhteyden muodostamisen jälkeen asennetaan uusimmat päivitykset komennolla"
   ]
  },
  {
   "cell_type": "code",
   "execution_count": null,
   "id": "e0c7f628",
   "metadata": {},
   "outputs": [],
   "source": [
    "# sudo apt-get update"
   ]
  },
  {
   "cell_type": "markdown",
   "id": "942b4235",
   "metadata": {},
   "source": [
    "ja tutoriaalia mukaillen asensin myös \"bzip2\"-, \"git\"- ja \"libxml2-dev\"-paketit \"apt-get install\"-komentoa hyödyntäen. Tämän jälkeen asensin Miniconda-distribuution, joka on Anacondan kevyt versio, ilman monia ylimääräisiä Python-paketteja. Miniconda asennetaan hieman mielenkiintoista reittiä, sillä ensin Minicondan asentava skripti haetaan wget:llä ja suoritetaan komennoilla"
   ]
  },
  {
   "cell_type": "code",
   "execution_count": null,
   "id": "f1eff6c6",
   "metadata": {},
   "outputs": [],
   "source": [
    "# wget https://repo.continuum.io/miniconda/Miniconda3-latest-Linux-x86_64.sh\n",
    "# bash Miniconda3-latest-Linux-x86_64.sh\n",
    "# rm Miniconda3-latest-Linux-x86_64.sh\n",
    "# source .bashrc"
   ]
  },
  {
   "cell_type": "markdown",
   "id": "f71a2845",
   "metadata": {},
   "source": [
    "wget minun piti asentaa myös itse, sillä jostain syystä se ei ollut valmiiksi asennettuna. Minicondan asennusskripti ehdottaa condan käynnistämistä, ja annoin skriptin hoitaa homman loppuun saakka. Kun conda pyörii, voidaan asentaa tarpeelliset kirjastot komennolla"
   ]
  },
  {
   "cell_type": "code",
   "execution_count": null,
   "id": "710a13e8",
   "metadata": {},
   "outputs": [],
   "source": [
    "# conda install scikit-learn pandas jupyter ipython"
   ]
  },
  {
   "cell_type": "markdown",
   "id": "d61368e4",
   "metadata": {},
   "source": [
    "ja samaan putkeen kannattanee asentaa myös JupyterLab mikäli sitä haluaa käyttää JupyterNotebookin sijasta, sen voi tehdä komennolla"
   ]
  },
  {
   "cell_type": "code",
   "execution_count": null,
   "id": "ea56b34e",
   "metadata": {},
   "outputs": [],
   "source": [
    "# conda install -c conda-forge jupyterlab"
   ]
  },
  {
   "cell_type": "markdown",
   "id": "c0d92c6d-4ba2-4cd0-8487-77643daee864",
   "metadata": {},
   "source": [
    "Näiden asentamisen jälkeen VM-instanssille asetetaan palomuurisääntö, joka sallii kaiken sisääntulevan liikenteen virtuaalikoneen porttiin 8888. Tietoturvan kannalta ei todellakaan optimaalinen ratkaisu, mikä tunnistetaan myös tutoriaalissa, mutta tällä mennään tässä vaiheessa. Tämän jälkeen luodaan ja konfiguroidaan Jupyter, ja tässä kohdassa asetettavan salasanan kannattaa todellakin olla vahva, sillä mikäli joku pääsee työkirjaan käsiksi, voi hän luoda sudo-oikeudet omaavan terminaalisession virtuaalikoneeseen, ja mahdollisesti tehdä jotain, joka kasvattaisi kuluja jotain kautta, tai muutoin vahingoittaa virtuaalikonetta. Ensikatsauksella vaikuttaa kuitenkin siltä, että tämä on useimmissa vastaavissa tutoriaaleissa ohjeistettu tapa. Kätevää on se, että virtuaalikoneen ulkoisen IP-osoitteen kautta pääsee nyt miltä tahansa omalta tietokoneelta selaimen kautta muokkaamaan työkirjoja, silloin kun virtuaalikone ja jupyter on siis käynnissä. \n",
    "\n",
    "## Huomioita\n",
    "\n",
    "Kehitysympäristön luominen ja käyttöönotto sisälsi pientä säätämistä, mutta oli tutoriaalin avulla lopulta melko yksinkertaista, ja itseltäni kului siihen yksi (lopulta kaikki ylimääräinen säätö ja netissä seikkailu mukaan luettuna melko pitkä) iltapäivä ja ilta.\n",
    "\n",
    "Google Cloud Platform näyttää ensivilkaisulta massiiviselta ympäristöltä, mitä se tietysti onkin, ja tämä saattaa olla pieni haaste alussa etenkin asioiden löytämisen ja kokonaisuuden ymmärtämisen suhteen. Komentorivi tulee myös ainakin jossain määrin tutuksi ellei se sitä jo ole, mutta tutoriaalin avulla pääsee hyvin alkuun tässäkin suhteessa. Mikäli haluaa käyttää heti alusta asti käyttää JupyterLabia JupyterNotebookin sijaan, on tämä todennäköisesti mahdollista suorittamalla muutoin samat komennot kuin tutoriaalissa, mutta vaihtamalla komennoissa jupyter notebookin jupyter labiin.\n",
    "\n",
    "Pientä jumppaamista oli myös sen kanssa, miten jupyter-työkirjan saa kehitysympäristöstä PDF-muodossa ulos, ja tämä vaati useiden pakettien asentelua virheilmoitusten printtejä seuraamalla. Vielä en myöskään saanut kuvia sisällytettyä dokumenttiin, joten tämän kanssa täytyy vielä hieman tehdä töitä. PDF-muunnosta varten asensin Nbconvertin, Pandocin sekä TeX:n. Nämä voi asentaa komennoilla"
   ]
  },
  {
   "cell_type": "code",
   "execution_count": null,
   "id": "f754de76-e3dc-4c2d-b07b-078b1ae398bd",
   "metadata": {},
   "outputs": [],
   "source": [
    "# conda install nbconvert\n",
    "# sudo apt-get install pandoc\n",
    "# sudo apt-get install texlive-xetex texlive-fonts-recommended texlive-plain-generic"
   ]
  },
  {
   "cell_type": "markdown",
   "id": "ba3eab91-7754-44f3-b51e-38a945f34770",
   "metadata": {},
   "source": [
    "TLS-sertifikaatin lisääminen olisi vaatinut domainin hankkimista, mikä on sääli, sillä nyt VM-instanssi on hyvin ikävästi suojaamattomana. Tämä tosin lienee tilanne millä tahansa alustalla toimittaessa, joten tietoturvan kannalta turvallisin ratkaisu tässä mielessä olisi todennäköisesti ollut omalla koneella pyörivä ympäristö, esimerkiksi Anaconda. Halusin kuitenkin kokeilla pilviympäristön käyttöönottoa ja toisaalta jättää oman tietokoneeni resurssit rauhaan, ja tämä prosessi olikin kokonaisuutena erittäin opettavainen.\n",
    "\n",
    "Yhtenä haasteena on myös se, että Google Cloud Shell tuntuu välillä satunnaisesti menettävän yhteyden virtuaalikoneeseen, jolloin siis myös yhteys JupyterLabiin menetetään. Syytä tälle en tiedä, mutta tämän jälkeen myös gcs:n yhteys virtuaalikoneeseen joudutaan sallimaan uudestaan. Tämä on kieltämättä hieman turhauttava \"ominaisuus\".\n",
    "\n",
    "## Hyödyllisiä linkkejä\n",
    "\n",
    "Ympäristön käyttöönotossa erittäin hyödyllinen tutoriaali - <a href=\"https://www.datacamp.com/community/tutorials/google-cloud-data-science\">https://www.datacamp.com/community/tutorials/google-cloud-data-science</a>\n",
    "\n",
    "Tutoriaali TLS:n ja SSH:n käyttöönotosta - <a href=\"https://towardsdatascience.com/full-deployment-of-jupyter-notebooks-on-a-server-including-tls-ssl-with-lets-encrypt-b30cc758881e\">https://towardsdatascience.com/full-deployment-of-jupyter-notebooks-on-a-server-including-tls-ssl-with-lets-encrypt-b30cc758881e</a>\n",
    "\n",
    "Lisätietoa Nbconvertin, Pandocin sekä TeX:n asentamisesta sekä Nbconvertin dokumentaatio - <a href=\"https://nbconvert.readthedocs.io/en/latest/install.html\">https://nbconvert.readthedocs.io/en/latest/install.html</a>\n",
    "\n",
    "JupyterLabin dokumentaatio - <a href=\"https://jupyterlab.readthedocs.io/en/stable/getting_started/overview.html\">https://jupyterlab.readthedocs.io/en/stable/getting_started/overview.html</a>"
   ]
  }
 ],
 "metadata": {
  "kernelspec": {
   "display_name": "Python 3 (ipykernel)",
   "language": "python",
   "name": "python3"
  },
  "language_info": {
   "codemirror_mode": {
    "name": "ipython",
    "version": 3
   },
   "file_extension": ".py",
   "mimetype": "text/x-python",
   "name": "python",
   "nbconvert_exporter": "python",
   "pygments_lexer": "ipython3",
   "version": "3.9.7"
  }
 },
 "nbformat": 4,
 "nbformat_minor": 5
}
